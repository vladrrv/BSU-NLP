{
 "cells": [
  {
   "cell_type": "code",
   "execution_count": 10,
   "metadata": {},
   "outputs": [],
   "source": [
    "import os\n",
    "import re\n",
    "import numpy as np\n",
    "import nltk\n",
    "from nltk.corpus.reader.plaintext import *\n",
    "from nltk.tokenize import *\n",
    "from nltk import FreqDist\n",
    "\n",
    "corpusdir = 'corpus/'"
   ]
  },
  {
   "cell_type": "code",
   "execution_count": 29,
   "metadata": {},
   "outputs": [],
   "source": [
    "tokenizer = TreebankWordTokenizer()\n",
    "newcorpus = PlaintextCorpusReader(corpusdir, '.*', word_tokenizer=tokenizer)"
   ]
  },
  {
   "cell_type": "code",
   "execution_count": 30,
   "metadata": {},
   "outputs": [],
   "source": [
    "raw_text = newcorpus.raw().replace(\"''\", ',,').lower()"
   ]
  },
  {
   "cell_type": "code",
   "execution_count": 31,
   "metadata": {},
   "outputs": [
    {
     "name": "stdout",
     "output_type": "stream",
     "text": [
      "2199270\n"
     ]
    }
   ],
   "source": [
    "spans = list(tokenizer.span_tokenize(raw_text))\n",
    "print(len(spans))"
   ]
  },
  {
   "cell_type": "code",
   "execution_count": 32,
   "metadata": {},
   "outputs": [
    {
     "name": "stdout",
     "output_type": "stream",
     "text": [
      "Total: 1739795\n"
     ]
    }
   ],
   "source": [
    "reg = \"[A-Za-z]+([\\'|\\-][A-Za-z]+)*\"\n",
    "words_ids = [(raw_text[s:t],s) for s,t in spans if re.fullmatch(reg,raw_text[s:t]) is not None]\n",
    "print('Total:', len(words_ids))"
   ]
  },
  {
   "cell_type": "code",
   "execution_count": 33,
   "metadata": {
    "scrolled": true
   },
   "outputs": [
    {
     "name": "stdout",
     "output_type": "stream",
     "text": [
      "[('i', 31415), ('do', 31417), ('but', 31421), ('to', 31425), ('know', 31428), ('is', 31433), ('not', 31436), ('necessarily', 31440), ('to', 31452), ('now', 31472), ('dors', 31477), ('you', 31483), ('deliberately', 31490), ('speaking', 31503), ('in', 31512), ('paradoxes', 31515), ('to', 31525), ('be', 31528), ('a', 31541), ('paradox', 31543), ('arises', 31551), ('only', 31558), ('out', 31563), ('of', 31567), ('an', 31570), ('ambiguity', 31573), ('that', 31583), ('deceives', 31588), ('either', 31597), ('unwittingly', 31604), ('or', 31616), ('by', 31619), ('i', 31630), ('do', 31632), (\"n't\", 31634), ('like', 31638), ('that', 31643), ('in', 31648), ('science', 31651), ('and', 31659), ('i', 31663), ('do', 31665), (\"n't\", 31667), ('like', 31671), ('it', 31676), ('in', 31679), ('casual', 31682), ('conversation', 31689), ('either', 31703), ('unless', 31711)]\n"
     ]
    }
   ],
   "source": [
    "i = np.random.randint(0,10000)\n",
    "print(words_ids[i:i+50])"
   ]
  },
  {
   "cell_type": "code",
   "execution_count": 34,
   "metadata": {},
   "outputs": [],
   "source": [
    "words = [w for w,i in words_ids]"
   ]
  },
  {
   "cell_type": "code",
   "execution_count": 35,
   "metadata": {},
   "outputs": [],
   "source": [
    "freq_dict = FreqDist(words)"
   ]
  },
  {
   "cell_type": "code",
   "execution_count": 36,
   "metadata": {},
   "outputs": [
    {
     "data": {
      "text/plain": [
       "['a',\n",
       " 'a-a-who',\n",
       " 'a-area',\n",
       " 'a-free-robot',\n",
       " 'a-full',\n",
       " 'a-gleam',\n",
       " 'a-glimmer',\n",
       " 'a-glitter',\n",
       " 'a-lather',\n",
       " 'a-left',\n",
       " 'a-quiver',\n",
       " 'a-snarl',\n",
       " 'a-squint',\n",
       " 'a-tremble',\n",
       " 'a-trifle-too-heavy',\n",
       " 'a-uh-a',\n",
       " 'a-well',\n",
       " 'a-wonder',\n",
       " 'aarghh',\n",
       " 'aarons',\n",
       " 'aback',\n",
       " 'abandon',\n",
       " 'abandoned',\n",
       " 'abandoned-or',\n",
       " 'abandoning',\n",
       " 'abandonment',\n",
       " 'abandons',\n",
       " 'abashed',\n",
       " 'abbreviated',\n",
       " 'abbreviation',\n",
       " 'abdomen',\n",
       " 'abdominal',\n",
       " 'abducted',\n",
       " 'abduction',\n",
       " 'abe',\n",
       " 'aberrance',\n",
       " 'aberrant',\n",
       " 'aberration',\n",
       " 'abetted',\n",
       " 'abeyance',\n",
       " 'abhor',\n",
       " 'abide',\n",
       " 'abiding',\n",
       " 'abilities',\n",
       " 'ability',\n",
       " 'ability-he',\n",
       " 'ability-the',\n",
       " 'able',\n",
       " 'ablutions',\n",
       " 'ably',\n",
       " 'ably-particularly',\n",
       " 'abner',\n",
       " 'abnormal',\n",
       " 'abnormalities',\n",
       " 'abnormality',\n",
       " 'abnormalized',\n",
       " 'abnormally',\n",
       " 'aboard',\n",
       " 'abode',\n",
       " 'abolish',\n",
       " 'abolished',\n",
       " 'abolishing',\n",
       " 'abolition',\n",
       " 'abominable',\n",
       " 'abomination',\n",
       " 'abominations',\n",
       " 'aboriginal',\n",
       " 'aboriginals',\n",
       " 'abort',\n",
       " 'aborted',\n",
       " 'abortive',\n",
       " 'abound',\n",
       " 'about',\n",
       " 'about-and',\n",
       " 'about-but',\n",
       " 'about-face',\n",
       " 'about-faced',\n",
       " 'about-here',\n",
       " 'about-i',\n",
       " 'about-oh',\n",
       " 'about-significance',\n",
       " 'above',\n",
       " 'above-suspicion',\n",
       " 'aboveground',\n",
       " 'abrading',\n",
       " 'abraham',\n",
       " 'abram',\n",
       " 'abrasive',\n",
       " 'abroad',\n",
       " 'abrogated',\n",
       " 'abrupt',\n",
       " 'abruptly',\n",
       " 'abruptness',\n",
       " 'absence',\n",
       " 'absences',\n",
       " 'absent',\n",
       " 'absent-minded',\n",
       " 'absent-mindedly',\n",
       " 'absently',\n",
       " 'absentminded',\n",
       " 'absentmindedly',\n",
       " 'absolute',\n",
       " 'absolute-rotation',\n",
       " 'absolutely',\n",
       " 'absolutes',\n",
       " 'absolution',\n",
       " 'absorb',\n",
       " 'absorbed',\n",
       " 'absorbent',\n",
       " 'absorbing',\n",
       " 'absorbs',\n",
       " 'absorption',\n",
       " 'absorptive',\n",
       " 'abstaining',\n",
       " 'abstemious',\n",
       " 'abstinence',\n",
       " 'abstract',\n",
       " 'abstract-and',\n",
       " 'abstract-thought',\n",
       " 'abstracted',\n",
       " 'abstractedly',\n",
       " 'abstraction',\n",
       " 'abstractionist',\n",
       " 'abstractions',\n",
       " 'abstracts',\n",
       " 'abstruse',\n",
       " 'absurd',\n",
       " 'absurd-uh-changes',\n",
       " 'absurdity-this',\n",
       " 'absurdly',\n",
       " 'abt',\n",
       " 'abundance',\n",
       " 'abundant',\n",
       " 'abundant-the',\n",
       " 'abundantly',\n",
       " 'abuse',\n",
       " 'abuzz',\n",
       " 'abysmally',\n",
       " 'abyss',\n",
       " 'ac',\n",
       " 'ac-contact',\n",
       " 'academic',\n",
       " 'academician',\n",
       " 'academicians',\n",
       " 'academy',\n",
       " 'acarnio',\n",
       " 'accede',\n",
       " 'accelerate',\n",
       " 'accelerated',\n",
       " 'accelerates',\n",
       " 'accelerating',\n",
       " 'acceleration',\n",
       " 'accelerational',\n",
       " 'accent',\n",
       " 'accented',\n",
       " 'accenting',\n",
       " 'accents',\n",
       " 'accentuate',\n",
       " 'accentuated',\n",
       " 'accentuating',\n",
       " 'accept',\n",
       " 'acceptability',\n",
       " 'acceptable',\n",
       " 'acceptable-or',\n",
       " 'acceptance',\n",
       " 'acceptance-though',\n",
       " 'accepted',\n",
       " 'accepting',\n",
       " 'accepts',\n",
       " 'access',\n",
       " 'accessible',\n",
       " 'accession',\n",
       " 'accessions',\n",
       " 'accessories',\n",
       " 'accessory',\n",
       " 'accident',\n",
       " 'accidental',\n",
       " 'accidentally',\n",
       " 'accidents',\n",
       " 'acclaimed',\n",
       " 'acclimate',\n",
       " 'acclimated',\n",
       " 'acclimatize',\n",
       " 'accolade',\n",
       " 'accommodate',\n",
       " 'accommodating',\n",
       " 'accommodations',\n",
       " 'accompanied',\n",
       " 'accompaniment',\n",
       " 'accompaniments',\n",
       " 'accompany',\n",
       " 'accompanying',\n",
       " 'accomplice',\n",
       " 'accomplice-a',\n",
       " 'accomplish',\n",
       " 'accomplished',\n",
       " 'accomplishes',\n",
       " 'accomplishing',\n",
       " 'accomplishment',\n",
       " 'accomplishment-but']"
      ]
     },
     "execution_count": 36,
     "metadata": {},
     "output_type": "execute_result"
    }
   ],
   "source": [
    "unique_words = list(freq_dict.keys())\n",
    "unique_words.sort()\n",
    "unique_words[:200]"
   ]
  },
  {
   "cell_type": "code",
   "execution_count": 37,
   "metadata": {},
   "outputs": [
    {
     "data": {
      "text/plain": [
       "34939"
      ]
     },
     "execution_count": 37,
     "metadata": {},
     "output_type": "execute_result"
    }
   ],
   "source": [
    "len(unique_words)"
   ]
  },
  {
   "cell_type": "code",
   "execution_count": null,
   "metadata": {},
   "outputs": [],
   "source": []
  }
 ],
 "metadata": {
  "kernelspec": {
   "display_name": "Python 3",
   "language": "python",
   "name": "python3"
  },
  "language_info": {
   "codemirror_mode": {
    "name": "ipython",
    "version": 3
   },
   "file_extension": ".py",
   "mimetype": "text/x-python",
   "name": "python",
   "nbconvert_exporter": "python",
   "pygments_lexer": "ipython3",
   "version": "3.7.4"
  }
 },
 "nbformat": 4,
 "nbformat_minor": 2
}
